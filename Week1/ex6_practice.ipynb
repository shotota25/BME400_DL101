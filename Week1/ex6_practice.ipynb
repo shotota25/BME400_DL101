{
 "cells": [
  {
   "cell_type": "code",
   "execution_count": 58,
   "id": "53f8383a",
   "metadata": {},
   "outputs": [],
   "source": [
    "import numpy as np\n",
    "import matplotlib.pyplot as plt"
   ]
  },
  {
   "cell_type": "code",
   "execution_count": 59,
   "id": "4c86e124",
   "metadata": {},
   "outputs": [
    {
     "name": "stdout",
     "output_type": "stream",
     "text": [
      "[[ 1  2  3]\n",
      " [71  5  6]]\n",
      "[[1 2 3]\n",
      " [4 5 6]]\n"
     ]
    }
   ],
   "source": [
    "a=np.array([[1,2,3,],[4,5,6]])\n",
    "b=a.copy()\n",
    "a[1,0]=71\n",
    "print(a)\n",
    "print(b)"
   ]
  },
  {
   "cell_type": "code",
   "execution_count": 60,
   "id": "d3c05ab2",
   "metadata": {},
   "outputs": [
    {
     "name": "stdout",
     "output_type": "stream",
     "text": [
      "int32\n",
      "float64\n",
      "int64\n"
     ]
    }
   ],
   "source": [
    "x=np.array([52,71])\n",
    "print(x.dtype)\n",
    "x=np.array([52.0,71.0])\n",
    "print(x.dtype)\n",
    "x=np.array([52,71],dtype=np.int64)\n",
    "print(x.dtype)\n"
   ]
  },
  {
   "cell_type": "code",
   "execution_count": 61,
   "id": "ac13681d",
   "metadata": {},
   "outputs": [
    {
     "data": {
      "text/plain": [
       "array([52, 71], dtype=int64)"
      ]
     },
     "execution_count": 61,
     "metadata": {},
     "output_type": "execute_result"
    }
   ],
   "source": [
    "x"
   ]
  },
  {
   "cell_type": "code",
   "execution_count": 62,
   "id": "420a51d1",
   "metadata": {},
   "outputs": [
    {
     "name": "stdout",
     "output_type": "stream",
     "text": [
      "[[1 2 3]\n",
      " [4 5 6]\n",
      " [7 8 9]]\n",
      "[[1 4 7]\n",
      " [2 5 8]\n",
      " [3 6 9]]\n",
      "[[1 4 7]\n",
      " [2 5 8]\n",
      " [3 6 9]]\n",
      "[[1 2 3]\n",
      " [4 5 6]\n",
      " [7 8 9]]\n"
     ]
    }
   ],
   "source": [
    "x=np.array([[1,2,3],[4,5,6],[7,8,9]])\n",
    "print(x)\n",
    "y=np.transpose(x)\n",
    "print(y)\n",
    "print(x.T)\n",
    "print(y.T)"
   ]
  },
  {
   "cell_type": "code",
   "execution_count": 63,
   "id": "7e7b86a6",
   "metadata": {},
   "outputs": [
    {
     "name": "stdout",
     "output_type": "stream",
     "text": [
      "[1 2 3 4 5 6 7 8] \n",
      "\n",
      "[[1 2]\n",
      " [3 4]\n",
      " [5 6]\n",
      " [7 8]] \n",
      "\n"
     ]
    }
   ],
   "source": [
    "a=np.array([[1,2],[3,4]])\n",
    "b=np.array([[5,6],[7,8]])\n",
    "print(np.append(a,b),'\\n')\n",
    "print(np.append(a,b,axis=0),'\\n')\n"
   ]
  },
  {
   "cell_type": "code",
   "execution_count": 64,
   "id": "a3dd4a2b",
   "metadata": {},
   "outputs": [
    {
     "name": "stdout",
     "output_type": "stream",
     "text": [
      "[[1 2 5 6]\n",
      " [3 4 7 8]] \n",
      "\n"
     ]
    }
   ],
   "source": [
    "print(np.append(a,b,axis=1),'\\n')\n"
   ]
  },
  {
   "cell_type": "code",
   "execution_count": 65,
   "id": "7ef0f7f6",
   "metadata": {},
   "outputs": [
    {
     "name": "stdout",
     "output_type": "stream",
     "text": [
      "[5 1 2 3 4]\n"
     ]
    }
   ],
   "source": [
    "print(np.insert(a,0,5))"
   ]
  },
  {
   "cell_type": "code",
   "execution_count": 66,
   "id": "33c1cc52",
   "metadata": {},
   "outputs": [
    {
     "data": {
      "text/plain": [
       "array([[1, 2],\n",
       "       [3, 4]])"
      ]
     },
     "execution_count": 66,
     "metadata": {},
     "output_type": "execute_result"
    }
   ],
   "source": [
    "a"
   ]
  },
  {
   "cell_type": "code",
   "execution_count": 67,
   "id": "9b7eddd2",
   "metadata": {},
   "outputs": [
    {
     "name": "stdout",
     "output_type": "stream",
     "text": [
      "[[5 5]\n",
      " [1 2]\n",
      " [3 4]]\n"
     ]
    }
   ],
   "source": [
    "print(np.insert(a,0,5,axis=0))"
   ]
  },
  {
   "cell_type": "code",
   "execution_count": 68,
   "id": "b7c99310",
   "metadata": {},
   "outputs": [
    {
     "name": "stdout",
     "output_type": "stream",
     "text": [
      "[[5 1 2]\n",
      " [5 3 4]]\n"
     ]
    }
   ],
   "source": [
    "print(np.insert(a,0,5,axis=1))"
   ]
  },
  {
   "cell_type": "code",
   "execution_count": 69,
   "id": "991a0554",
   "metadata": {},
   "outputs": [
    {
     "name": "stdout",
     "output_type": "stream",
     "text": [
      "[1 2 4]\n",
      "[[1 2]]\n",
      "[[2]\n",
      " [4]]\n"
     ]
    }
   ],
   "source": [
    "a=np.array([[1,2],[3,4]])\n",
    "print(np.delete(a,2))\n",
    "print(np.delete(a,1,axis=0))\n",
    "print(np.delete(a,0,axis=1))"
   ]
  },
  {
   "cell_type": "code",
   "execution_count": 70,
   "id": "91834be7",
   "metadata": {},
   "outputs": [],
   "source": [
    "a=np.array([[1,2],[3,4]])\n",
    "b=np.array([[5,6],[7,8]])"
   ]
  },
  {
   "cell_type": "code",
   "execution_count": 71,
   "id": "64d0bab9",
   "metadata": {},
   "outputs": [
    {
     "name": "stdout",
     "output_type": "stream",
     "text": [
      "[[1 2]\n",
      " [3 4]\n",
      " [5 6]\n",
      " [7 8]] \n",
      "\n"
     ]
    }
   ],
   "source": [
    "print(np.concatenate((a,b)),'\\n')"
   ]
  },
  {
   "cell_type": "code",
   "execution_count": 72,
   "id": "0667f80c",
   "metadata": {},
   "outputs": [
    {
     "name": "stdout",
     "output_type": "stream",
     "text": [
      "[[1 2]\n",
      " [3 4]\n",
      " [5 6]\n",
      " [7 8]] \n",
      "\n"
     ]
    }
   ],
   "source": [
    "print(np.concatenate((a,b),axis=0),'\\n')"
   ]
  },
  {
   "cell_type": "code",
   "execution_count": 73,
   "id": "74b0aa7f",
   "metadata": {},
   "outputs": [
    {
     "name": "stdout",
     "output_type": "stream",
     "text": [
      "[[1 2 5 6]\n",
      " [3 4 7 8]] \n",
      "\n"
     ]
    }
   ],
   "source": [
    "print(np.concatenate((a,b),axis=1),'\\n')"
   ]
  },
  {
   "cell_type": "code",
   "execution_count": 74,
   "id": "f1096574",
   "metadata": {},
   "outputs": [
    {
     "name": "stdout",
     "output_type": "stream",
     "text": [
      "[1 2 3 4 5 6 7 8] \n",
      "\n"
     ]
    }
   ],
   "source": [
    "print(np.concatenate((a,b),axis=None),'\\n')"
   ]
  },
  {
   "cell_type": "code",
   "execution_count": 75,
   "id": "15631947",
   "metadata": {},
   "outputs": [
    {
     "name": "stdout",
     "output_type": "stream",
     "text": [
      "[[1 2]\n",
      " [3 4]\n",
      " [5 6]\n",
      " [7 8]]\n"
     ]
    }
   ],
   "source": [
    "print(np.vstack((a,b)))"
   ]
  },
  {
   "cell_type": "code",
   "execution_count": 76,
   "id": "eb240f99",
   "metadata": {},
   "outputs": [
    {
     "name": "stdout",
     "output_type": "stream",
     "text": [
      "[[1 2 5 6]\n",
      " [3 4 7 8]]\n"
     ]
    }
   ],
   "source": [
    "print(np.hstack((a,b)))"
   ]
  },
  {
   "cell_type": "code",
   "execution_count": 47,
   "id": "798cd759",
   "metadata": {},
   "outputs": [],
   "source": [
    "x=np.array([[1,2,3],[4,5,6],[7,8,9]])"
   ]
  },
  {
   "cell_type": "code",
   "execution_count": 48,
   "id": "3b6b3c54",
   "metadata": {},
   "outputs": [
    {
     "name": "stdout",
     "output_type": "stream",
     "text": [
      "[array([[1, 2, 3]]), array([[4, 5, 6]]), array([[7, 8, 9]])]\n"
     ]
    }
   ],
   "source": [
    "print(np.split(x,3))"
   ]
  },
  {
   "cell_type": "code",
   "execution_count": 49,
   "id": "549c9ea5",
   "metadata": {},
   "outputs": [
    {
     "name": "stdout",
     "output_type": "stream",
     "text": [
      "[array([[1],\n",
      "       [4],\n",
      "       [7]]), array([[2],\n",
      "       [5],\n",
      "       [8]]), array([[3],\n",
      "       [6],\n",
      "       [9]])]\n"
     ]
    }
   ],
   "source": [
    "print(np.split(x,3,axis=1))"
   ]
  },
  {
   "cell_type": "code",
   "execution_count": 50,
   "id": "a77a5721",
   "metadata": {},
   "outputs": [
    {
     "name": "stdout",
     "output_type": "stream",
     "text": [
      "[array([[1, 2, 3]]), array([[4, 5, 6]]), array([[7, 8, 9]])]\n"
     ]
    }
   ],
   "source": [
    "print(np.split(x,3,axis=0))"
   ]
  },
  {
   "cell_type": "code",
   "execution_count": 46,
   "id": "fa68fd53",
   "metadata": {},
   "outputs": [
    {
     "name": "stdout",
     "output_type": "stream",
     "text": [
      "Split 1:\n",
      "[[1 2]]\n",
      "\n",
      "Split 2:\n",
      "[[3 4]]\n",
      "\n",
      "Split 3:\n",
      "[[5 6]]\n",
      "\n"
     ]
    }
   ],
   "source": [
    "import numpy as np\n",
    "\n",
    "x = np.array([[1, 2, 3, 4, 5, 6]])\n",
    "\n",
    "# Split the array into 3 parts along axis=1\n",
    "splits = np.split(x, 3, axis=1)\n",
    "\n",
    "# Format and print the splits\n",
    "for i, split in enumerate(splits):\n",
    "    print(f'Split {i + 1}:\\n{np.array_str(split)}\\n')\n"
   ]
  },
  {
   "cell_type": "code",
   "execution_count": 52,
   "id": "74349ef6",
   "metadata": {},
   "outputs": [
    {
     "name": "stdout",
     "output_type": "stream",
     "text": [
      "[array([[1],\n",
      "       [4],\n",
      "       [7]]), array([[2],\n",
      "       [5],\n",
      "       [8]]), array([[3],\n",
      "       [6],\n",
      "       [9]])]\n"
     ]
    }
   ],
   "source": [
    "print(np.hsplit(x,3))"
   ]
  },
  {
   "cell_type": "code",
   "execution_count": 53,
   "id": "b08d633c",
   "metadata": {},
   "outputs": [
    {
     "name": "stdout",
     "output_type": "stream",
     "text": [
      "[array([[1, 2, 3]]), array([[4, 5, 6]]), array([[7, 8, 9]])]\n"
     ]
    }
   ],
   "source": [
    "print(np.vsplit(x,3))"
   ]
  },
  {
   "cell_type": "code",
   "execution_count": 59,
   "id": "fc22d134",
   "metadata": {},
   "outputs": [
    {
     "name": "stdout",
     "output_type": "stream",
     "text": [
      "[[False False]\n",
      " [ True  True]] \n",
      "\n",
      "[[ True False]\n",
      " [False False]] \n",
      "\n",
      "[[ True  True]\n",
      " [ True  True]] \n",
      "\n",
      "False\n"
     ]
    }
   ],
   "source": [
    "a=np.array([[10,20],[30,40]])\n",
    "b=np.array([[20,10],[30,40]])\n",
    "print(a==b,'\\n')\n",
    "print(a<20,'\\n')\n",
    "print(a%10==0,'\\n')\n",
    "print(np.array_equal(a,b))"
   ]
  },
  {
   "cell_type": "code",
   "execution_count": 66,
   "id": "80745af6",
   "metadata": {},
   "outputs": [],
   "source": [
    "x=np.array([[1,2,3],[4,5,6],[7,8,9]])\n",
    "np.savetxt(\"Example_array_1.txt\",x)\n",
    "np.savetxt(\"Example_array_2.txt\",x,fmt=\"%2.3f\",delimiter=',')"
   ]
  },
  {
   "cell_type": "code",
   "execution_count": 68,
   "id": "b144d14b",
   "metadata": {},
   "outputs": [
    {
     "name": "stdout",
     "output_type": "stream",
     "text": [
      "y: \n",
      " [[1. 2. 3.]\n",
      " [4. 5. 6.]\n",
      " [7. 8. 9.]]\n"
     ]
    }
   ],
   "source": [
    "y=np.loadtxt(\"Example_array_1.txt\")\n",
    "print(f'y: \\n',y)"
   ]
  },
  {
   "cell_type": "code",
   "execution_count": 72,
   "id": "eb99246d",
   "metadata": {},
   "outputs": [
    {
     "name": "stdout",
     "output_type": "stream",
     "text": [
      "z: \n",
      " [[1. 2. 3.]\n",
      " [4. 5. 6.]\n",
      " [7. 8. 9.]]\n"
     ]
    }
   ],
   "source": [
    "z=np.loadtxt(\"Example_array_2.txt\",delimiter=',')\n",
    "print(f'z: \\n',z)"
   ]
  },
  {
   "cell_type": "code",
   "execution_count": 74,
   "id": "d25a188b",
   "metadata": {},
   "outputs": [
    {
     "data": {
      "image/png": "[encoded data removed]",
      "text/plain": [
       "<Figure size 600x600 with 1 Axes>"
      ]
     },
     "metadata": {},
     "output_type": "display_data"
    }
   ],
   "source": [
    "fig,ax=plt.subplots(figsize=(6,6))\n",
    "ax.tick_params(axis=\"both\",which=\"major\",direction=\"out\",width=4,size=10,color=\"r\")\n",
    "ax.minorticks_on()\n",
    "ax.tick_params(axis=\"x\",which=\"minor\",direction=\"in\",width=2,size=8,color=\"b\")\n",
    "for spine in [\"top\",\"right\"]:\n",
    "    plt.setp(ax.spines[spine],ls=\"--\",color=\"brown\",hatch=\"x\",lw=4)"
   ]
  },
  {
   "cell_type": "code",
   "execution_count": 75,
   "id": "eb80c2b9",
   "metadata": {},
   "outputs": [],
   "source": [
    "import matplotlib as mpl"
   ]
  },
  {
   "cell_type": "code",
   "execution_count": 83,
   "id": "f1417c38",
   "metadata": {},
   "outputs": [
    {
     "data": {
      "text/plain": [
       "[<matplotlib.lines.Line2D at 0x206dbaaa450>]"
      ]
     },
     "execution_count": 83,
     "metadata": {},
     "output_type": "execute_result"
    },
    {
     "data": {
      "image/png": "[encoded data removed]",
      "text/plain": [
       "<Figure size 1000x500 with 1 Axes>"
      ]
     },
     "metadata": {},
     "output_type": "display_data"
    }
   ],
   "source": [
    "X=np.linspace(0.5,3.5,100)\n",
    "Y1=3+np.cos(X)\n",
    "Y2=1+np.cos(1+ X / 0.75)/2\n",
    "Y3=np.random.uniform(Y1,Y2,len(X))\n",
    "fig=plt.figure(figsize=(10,5))\n",
    "plt.scatter(X,Y3)\n",
    "plt.plot(X,Y1)\n",
    "plt.plot(X,Y2)"
   ]
  },
  {
   "cell_type": "code",
   "execution_count": 80,
   "id": "29a9c4e0",
   "metadata": {},
   "outputs": [
    {
     "data": {
      "image/png": "[encoded data removed]",
      "text/plain": [
       "<Figure size 1000x500 with 1 Axes>"
      ]
     },
     "metadata": {},
     "output_type": "display_data"
    }
   ],
   "source": [
    "X = np.linspace(0.5, 3.5, 100)\n",
    "Y1 = 3 + np.cos(X)\n",
    "Y2 = 1 + np.cos(1 + X / 0.75) / 2\n",
    "Y3 = np.random.uniform(Y1, Y2, len(X))\n",
    "\n",
    "fig = plt.figure(figsize = (10, 5))\n",
    "plt.scatter(X, Y3)\n",
    "plt.plot(X, Y1)\n",
    "plt.plot(X, Y2);"
   ]
  },
  {
   "cell_type": "code",
   "execution_count": 96,
   "id": "8f36c957",
   "metadata": {},
   "outputs": [
    {
     "data": {
      "text/plain": [
       "Text(0.5, 1.0, 'Students enrolled in different couses')"
      ]
     },
     "execution_count": 96,
     "metadata": {},
     "output_type": "execute_result"
    },
    {
     "data": {
      "image/png": "[encoded data removed]",
      "text/plain": [
       "<Figure size 500x300 with 1 Axes>"
      ]
     },
     "metadata": {},
     "output_type": "display_data"
    }
   ],
   "source": [
    "data={'C':20,'C++':15,'Java':30,'Python':35}\n",
    "courses=list(data.keys())\n",
    "courses\n",
    "values=list(data.values())\n",
    "values\n",
    "plt.figure(figsize=(5,3))\n",
    "plt.bar(courses,values,color='green',width=.4)\n",
    "plt.xlabel(\"Course offered\")\n",
    "plt.ylabel(\"No. of students enrolled\")\n",
    "plt.title(\"Students enrolled in different couses\")"
   ]
  },
  {
   "cell_type": "code",
   "execution_count": 105,
   "id": "6a2ea319",
   "metadata": {},
   "outputs": [
    {
     "data": {
      "image/png": "[encoded data removed]",
      "text/plain": [
       "<Figure size 1200x800 with 1 Axes>"
      ]
     },
     "metadata": {},
     "output_type": "display_data"
    }
   ],
   "source": [
    "barWidth=.25\n",
    "fig=plt.subplots(figsize=(12,8))\n",
    "BME=[7,24,12,17,5]\n",
    "EEE=[19,26,24,25,10]\n",
    "CSE=[26,30,18,6,17]\n",
    "br1=np.arange(len(BME))\n",
    "br2=[x+barWidth for x in br1]\n",
    "br3=[x+barWidth for x in br2]\n",
    "\n",
    "plt.bar(br1,BME,color='r',width=barWidth,edgecolor='grey',label='BME')\n",
    "plt.bar(br2,EEE,color='g',width=barWidth,edgecolor='grey',label='EEE')\n",
    "plt.bar(br3,CSE,color='b',width=barWidth,edgecolor='grey',label='CSE')\n",
    "plt.xlabel('Branch',fontweight='bold',fontsize=15)\n",
    "plt.ylabel('Students passed',fontweight='bold',fontsize=15)\n",
    "plt.xticks([r+barWidth for r in range(len(BME))],['2015','2016','2017','2018','2019'])\n",
    "plt.legend()\n",
    "plt.show()"
   ]
  },
  {
   "cell_type": "code",
   "execution_count": 108,
   "id": "f9b77397",
   "metadata": {},
   "outputs": [
    {
     "data": {
      "text/plain": [
       "<matplotlib.legend.Legend at 0x206e0987d50>"
      ]
     },
     "execution_count": 108,
     "metadata": {},
     "output_type": "execute_result"
    },
    {
     "data": {
      "image/png": "[encoded data removed]",
      "text/plain": [
       "<Figure size 1000x700 with 1 Axes>"
      ]
     },
     "metadata": {},
     "output_type": "display_data"
    }
   ],
   "source": [
    "N=5\n",
    "boys = (20, 35, 30, 35, 27)\n",
    "girls = (25, 32, 34, 20, 25)\n",
    "boyStd = (2, 3, 4, 1, 2)\n",
    "girlStd = (3, 5, 2, 3, 3)\n",
    "ind=np.arange(N)\n",
    "width=.35\n",
    "fig=plt.subplots(figsize=(10,7))\n",
    "p1=plt.bar(ind,boys,width,yerr=boyStd)\n",
    "p2=plt.bar(ind,girls,width,bottom=boys,yerr=girlStd)\n",
    "plt.ylabel('Contribution')\n",
    "plt.title('Contribution by the teams')\n",
    "plt.xticks(ind,('T1','T2','T3','T4','T5'))\n",
    "plt.yticks(np.arange(0,81,10))\n",
    "plt.legend((p1[0],p2[1]),('boys','girls'))"
   ]
  },
  {
   "cell_type": "code",
   "execution_count": 110,
   "id": "b6eebdfb",
   "metadata": {},
   "outputs": [
    {
     "data": {
      "image/png": "[encoded data removed]",
      "text/plain": [
       "<Figure size 1000x700 with 1 Axes>"
      ]
     },
     "metadata": {},
     "output_type": "display_data"
    }
   ],
   "source": [
    "a = np.array([22, 87, 5, 43, 56,\n",
    "\t\t\t73, 55, 54, 11,\n",
    "\t\t\t20, 51, 5, 79, 31,\n",
    "\t\t\t27])\n",
    "fig,ax=plt.subplots(figsize=(10,7))\n",
    "ax.hist(a,bins=[0,25,50,75,100])\n",
    "plt.show()"
   ]
  },
  {
   "cell_type": "code",
   "execution_count": 114,
   "id": "6866761d",
   "metadata": {},
   "outputs": [
    {
     "data": {
      "image/png": "[encoded data removed]",
      "text/plain": [
       "<Figure size 1000x700 with 1 Axes>"
      ]
     },
     "metadata": {},
     "output_type": "display_data"
    }
   ],
   "source": [
    "from matplotlib import colors\n",
    "from matplotlib.ticker import PercentFormatter\n",
    "np.random.seed(2388627368)\n",
    "N_points=10000\n",
    "n_bins=20\n",
    "x=np.random.randn(10000)+25\n",
    "fig, axs = plt.subplots(1, 1,\n",
    "\t\t\t\t\t\tfigsize =(10, 7),\n",
    "\t\t\t\t\t\ttight_layout = True)\n",
    "\n",
    "axs.hist(x, bins = n_bins)\n",
    "plt.show()"
   ]
  },
  {
   "cell_type": "code",
   "execution_count": 117,
   "id": "1fa2bc9d",
   "metadata": {},
   "outputs": [
    {
     "data": {
      "image/png": "[encoded data removed]",
      "text/plain": [
       "<Figure size 1500x600 with 1 Axes>"
      ]
     },
     "metadata": {},
     "output_type": "display_data"
    }
   ],
   "source": [
    "cars = ['AUDI', 'BMW', 'FORD',\n",
    "\t\t'TESLA', 'JAGUAR', 'MERCEDES']\n",
    "data = [23, 17, 35, 29, 12, 41]\n",
    "fig = plt.figure(figsize =(15, 6))\n",
    "plt.pie(data,labels=cars)\n",
    "plt.show()"
   ]
  },
  {
   "cell_type": "code",
   "execution_count": 122,
   "id": "cd4612ba",
   "metadata": {},
   "outputs": [
    {
     "data": {
      "image/png": "[encoded data removed]",
      "text/plain": [
       "<Figure size 500x300 with 1 Axes>"
      ]
     },
     "metadata": {},
     "output_type": "display_data"
    }
   ],
   "source": [
    "np.random.seed(10)\n",
    "data_1=np.random.normal(100,10,200)\n",
    "data_2=np.random.normal(90,20,200)\n",
    "data_3=np.random.normal(80,30,200)\n",
    "data_4=np.random.normal(70,40,200)\n",
    "data=[data_1,data_2,data_3,data_4]\n",
    "fig=plt.figure(figsize=(5,3))\n",
    "bp=plt.boxplot(data)"
   ]
  },
  {
   "cell_type": "code",
   "execution_count": 123,
   "id": "3e1e6aee",
   "metadata": {},
   "outputs": [
    {
     "data": {
      "image/png": "[encoded data removed]",
      "text/plain": [
       "<Figure size 1000x700 with 1 Axes>"
      ]
     },
     "metadata": {},
     "output_type": "display_data"
    }
   ],
   "source": [
    "np.random.seed(10)\n",
    "data_1=np.random.normal(100,10,200)\n",
    "data_2=np.random.normal(90,20,200)\n",
    "data_3=np.random.normal(80,30,200)\n",
    "data_4=np.random.normal(70,40,200)\n",
    "data=[data_1,data_2,data_3,data_4]\n",
    "fig=plt.figure(figsize=(10,7))\n",
    "bp=plt.boxplot(data)"
   ]
  },
  {
   "cell_type": "code",
   "execution_count": 124,
   "id": "26537b40",
   "metadata": {},
   "outputs": [
    {
     "data": {
      "image/png": "[encoded data removed]",
      "text/plain": [
       "<Figure size 640x480 with 1 Axes>"
      ]
     },
     "metadata": {},
     "output_type": "display_data"
    }
   ],
   "source": [
    "import seaborn as sns\n",
    "tips=sns.load_dataset(\"tips\")\n",
    "fig,ax=plt.subplots()\n",
    "ax.scatter(tips[\"tip\"],tips[\"total_bill\"])\n",
    "ax.set(\n",
    "   title=\"Tip vs. Total Bill amount in a restaurant\",\n",
    "   xlabel=\"Tip ($)\",\n",
    "   ylabel=\"Totalb bill ($)\",\n",
    ");"
   ]
  },
  {
   "cell_type": "code",
   "execution_count": 125,
   "id": "80be7da9",
   "metadata": {},
   "outputs": [
    {
     "name": "stdout",
     "output_type": "stream",
     "text": [
      "<class 'str'>\n"
     ]
    }
   ],
   "source": [
    "x=\"hello\"\n",
    "print(type(x))"
   ]
  },
  {
   "cell_type": "code",
   "execution_count": 126,
   "id": "7d43a722",
   "metadata": {},
   "outputs": [
    {
     "name": "stdout",
     "output_type": "stream",
     "text": [
      "<class 'int'>\n"
     ]
    }
   ],
   "source": [
    "y=1\n",
    "print(type(y))"
   ]
  },
  {
   "cell_type": "code",
   "execution_count": 1,
   "id": "33743661",
   "metadata": {},
   "outputs": [],
   "source": [
    "class student :\n",
    "    pass"
   ]
  },
  {
   "cell_type": "code",
   "execution_count": 2,
   "id": "62db865b",
   "metadata": {},
   "outputs": [],
   "source": [
    "student1=student()\n",
    "student2=student()\n"
   ]
  },
  {
   "cell_type": "code",
   "execution_count": 3,
   "id": "f58db0e0",
   "metadata": {},
   "outputs": [
    {
     "name": "stdout",
     "output_type": "stream",
     "text": [
      "Harry\n",
      "85\n"
     ]
    }
   ],
   "source": [
    "class student :\n",
    "    pass\n",
    "student1=student()\n",
    "student2=student()\n",
    "student1.name=\"Harry\"\n",
    "student1.marks=85\n",
    "print(student1.name)\n",
    "print(student1.marks)\n"
   ]
  },
  {
   "cell_type": "code",
   "execution_count": 5,
   "id": "ca335beb",
   "metadata": {},
   "outputs": [
    {
     "name": "stdout",
     "output_type": "stream",
     "text": [
      "False\n"
     ]
    }
   ],
   "source": [
    "class student:\n",
    "    def check_pass_fail(self):\n",
    "        if self.marks>=40:\n",
    "            return True\n",
    "        else:\n",
    "            return False\n",
    "student2 = student()\n",
    "student2.name = \"Janet\"\n",
    "student2.marks = 30\n",
    "did_pass = student2.check_pass_fail()\n",
    "print(did_pass)"
   ]
  },
  {
   "cell_type": "code",
   "execution_count": 9,
   "id": "ca207347",
   "metadata": {},
   "outputs": [
    {
     "data": {
      "text/plain": [
       "'Harry'"
      ]
     },
     "execution_count": 9,
     "metadata": {},
     "output_type": "execute_result"
    }
   ],
   "source": [
    "class stu:\n",
    "    def __init__(self,name,marks):\n",
    "        self.name=name\n",
    "        self.mark=marks\n",
    "student1=stu(\"Harry\",85)\n",
    "student1.name"
   ]
  },
  {
   "cell_type": "code",
   "execution_count": 10,
   "id": "7002f2aa",
   "metadata": {},
   "outputs": [
    {
     "data": {
      "text/plain": [
       "85"
      ]
     },
     "execution_count": 10,
     "metadata": {},
     "output_type": "execute_result"
    }
   ],
   "source": [
    "student1.mark"
   ]
  },
  {
   "cell_type": "code",
   "execution_count": 13,
   "id": "f8b6d039",
   "metadata": {},
   "outputs": [
    {
     "ename": "AttributeError",
     "evalue": "'com' object has no attribute 'real'",
     "output_type": "error",
     "traceback": [
      "\u001b[1;31m---------------------------------------------------------------------------\u001b[0m",
      "\u001b[1;31mAttributeError\u001b[0m                            Traceback (most recent call last)",
      "Cell \u001b[1;32mIn[13], line 12\u001b[0m\n\u001b[0;32m     10\u001b[0m n1\u001b[38;5;241m=\u001b[39mcom(\u001b[38;5;241m5\u001b[39m,\u001b[38;5;241m6\u001b[39m)\n\u001b[0;32m     11\u001b[0m n2\u001b[38;5;241m=\u001b[39mcom(\u001b[38;5;241m-\u001b[39m\u001b[38;5;241m4\u001b[39m,\u001b[38;5;241m2\u001b[39m)\n\u001b[1;32m---> 12\u001b[0m res\u001b[38;5;241m=\u001b[39mn1\u001b[38;5;241m.\u001b[39madd(n2)\n\u001b[0;32m     13\u001b[0m \u001b[38;5;28mprint\u001b[39m(\u001b[38;5;124m\"\u001b[39m\u001b[38;5;124mThe summation is:(\u001b[39m\u001b[38;5;132;01m{}\u001b[39;00m\u001b[38;5;124m+\u001b[39m\u001b[38;5;132;01m{}\u001b[39;00m\u001b[38;5;124mi)\u001b[39m\u001b[38;5;124m\"\u001b[39m\u001b[38;5;241m.\u001b[39mformat(res\u001b[38;5;241m.\u001b[39mr,res\u001b[38;5;241m.\u001b[39mi))\n",
      "Cell \u001b[1;32mIn[13], line 6\u001b[0m, in \u001b[0;36mcom.add\u001b[1;34m(self, num)\u001b[0m\n\u001b[0;32m      5\u001b[0m \u001b[38;5;28;01mdef\u001b[39;00m \u001b[38;5;21madd\u001b[39m(\u001b[38;5;28mself\u001b[39m,num):\n\u001b[1;32m----> 6\u001b[0m     real\u001b[38;5;241m=\u001b[39m\u001b[38;5;28mself\u001b[39m\u001b[38;5;241m.\u001b[39mr\u001b[38;5;241m+\u001b[39mnum\u001b[38;5;241m.\u001b[39mreal\n\u001b[0;32m      7\u001b[0m     imag\u001b[38;5;241m=\u001b[39m\u001b[38;5;28mself\u001b[39m\u001b[38;5;241m.\u001b[39mi\u001b[38;5;241m+\u001b[39mnum\u001b[38;5;241m.\u001b[39mimag\n\u001b[0;32m      8\u001b[0m     res\u001b[38;5;241m=\u001b[39mcom(real,imag)\n",
      "\u001b[1;31mAttributeError\u001b[0m: 'com' object has no attribute 'real'"
     ]
    }
   ],
   "source": [
    "class com:\n",
    "    def __init__(self,real,imag):\n",
    "        self.r=real\n",
    "        self.i=imag\n",
    "    def add(self,num):\n",
    "        real=self.r+num.real\n",
    "        imag=self.i+num.imag\n",
    "        res=com(real,imag)\n",
    "        return res\n",
    "n1=com(5,6)\n",
    "n2=com(-4,2)\n",
    "res=n1.add(n2)\n",
    "print(\"The summation is:({}+{}i)\".format(res.r,res.i))"
   ]
  },
  {
   "cell_type": "code",
   "execution_count": 14,
   "id": "db841151",
   "metadata": {},
   "outputs": [
    {
     "name": "stdout",
     "output_type": "stream",
     "text": [
      "The summation is: (1 + 8i)\n"
     ]
    }
   ],
   "source": [
    "class com:\n",
    "    def __init__(self, real, imag):\n",
    "        self.r = real\n",
    "        self.i = imag\n",
    "\n",
    "    def add(self, num):\n",
    "        real = self.r + num.r\n",
    "        imag = self.i + num.i\n",
    "        res = com(real, imag)\n",
    "        return res\n",
    "\n",
    "n1 = com(5, 6)\n",
    "n2 = com(-4, 2)\n",
    "res = n1.add(n2)\n",
    "print(\"The summation is: ({} + {}i)\".format(res.r, res.i))\n"
   ]
  },
  {
   "cell_type": "code",
   "execution_count": 15,
   "id": "484e68df",
   "metadata": {},
   "outputs": [
    {
     "name": "stdout",
     "output_type": "stream",
     "text": [
      "The summation is:(1+8i)\n"
     ]
    }
   ],
   "source": [
    "class com:\n",
    "    def __init__(self,real,imag):\n",
    "        self.r=real\n",
    "        self.i=imag\n",
    "    def add(self,num):\n",
    "        real=self.r+num.r\n",
    "        imag=self.i+num.i\n",
    "        res=com(real,imag)\n",
    "        return res\n",
    "n1=com(5,6)\n",
    "n2=com(-4,2)\n",
    "res=n1.add(n2)\n",
    "print(\"The summation is:({}+{}i)\".format(res.r,res.i))"
   ]
  },
  {
   "cell_type": "code",
   "execution_count": 19,
   "id": "3c8a4ec0",
   "metadata": {},
   "outputs": [
    {
     "name": "stdout",
     "output_type": "stream",
     "text": [
      "Rahul\n",
      "886012\n",
      "My name is Rahul\n",
      "My id is 886012\n",
      "My post is Intern\n"
     ]
    }
   ],
   "source": [
    "class per(object):\n",
    "    def __init__(self,name,id):\n",
    "        self.n=name\n",
    "        self.i=id\n",
    "    def display(self):\n",
    "        print(self.n)\n",
    "        print(self.i)\n",
    "        \n",
    "    def details(self):\n",
    "        print(\"My name is {}\".format(self.n))\n",
    "        print(\"My id is {}\".format(self.i))\n",
    "class em(per):\n",
    "    def __init__(self,name,id,sal,post):\n",
    "        self.s=sal\n",
    "        self.p=post\n",
    "        per.__init__(self,name,id)\n",
    "    def details(self):\n",
    "        print(\"My name is {}\".format(self.n))\n",
    "        print(\"My id is {}\".format(self.i))\n",
    "        print(\"My post is {}\".format(self.p))\n",
    "        \n",
    "a = em('Rahul', 886012,  20000, \"Intern\")   \n",
    "a.display()\n",
    "a.details()\n"
   ]
  },
  {
   "cell_type": "code",
   "execution_count": 26,
   "id": "ee930e15",
   "metadata": {},
   "outputs": [
    {
     "name": "stdout",
     "output_type": "stream",
     "text": [
      "Blu is bird\n",
      "woo is bird\n",
      "blu is 10 years old\n",
      "woo is 15 years old\n"
     ]
    }
   ],
   "source": [
    "class par:\n",
    "    species=\"bird\"\n",
    "    def __init__(self,name,age):\n",
    "        self.n=name\n",
    "        self.a=age\n",
    "blu=par(\"blu\",10)\n",
    "woo=par(\"woo\",15)\n",
    "print(\"Blu is {}\".format(blu.__class__.species))\n",
    "print(\"woo is {}\".format(woo.__class__.species))\n",
    "print(\"{} is {} years old\".format(blu.n,blu.a))\n",
    "print(\"{} is {} years old\".format(woo.n,woo.a))"
   ]
  },
  {
   "cell_type": "code",
   "execution_count": 30,
   "id": "274031b2",
   "metadata": {},
   "outputs": [
    {
     "name": "stdout",
     "output_type": "stream",
     "text": [
      "Bird is ready \n",
      "pen is ready\n",
      "pen\n",
      "swim faster\n",
      "run faster\n"
     ]
    }
   ],
   "source": [
    "class b:\n",
    "    def __init__(self):\n",
    "        print(\"Bird is ready \")\n",
    "    def whoisthis(self):\n",
    "        print(\"bird\")\n",
    "    def swim(self):\n",
    "        print(\"swim faster\")\n",
    "class pen(b):\n",
    "    def __init__(self):\n",
    "        super().__init__()\n",
    "        print(\"pen is ready\")\n",
    "    def whoisthis(self):\n",
    "        print(\"pen\")   \n",
    "    def run(self):\n",
    "        print(\"run faster\")\n",
    "peggy=pen()\n",
    "peggy.whoisthis()\n",
    "peggy.swim()\n",
    "peggy.run()\n",
    "\n"
   ]
  },
  {
   "cell_type": "code",
   "execution_count": 31,
   "id": "71a1605c",
   "metadata": {},
   "outputs": [
    {
     "name": "stdout",
     "output_type": "stream",
     "text": [
      "Bird is ready\n",
      "Penguin is ready\n",
      "Penguin\n",
      "Swim faster\n",
      "Run faster\n"
     ]
    }
   ],
   "source": [
    "class Bird:    \n",
    "    def __init__(self):\n",
    "        print(\"Bird is ready\")\n",
    "    def whoisThis(self):\n",
    "        print(\"Bird\")\n",
    "    def swim(self):\n",
    "        print(\"Swim faster\")\n",
    "\n",
    "# child class\n",
    "class Penguin(Bird):\n",
    "    def __init__(self):\n",
    "        # call super() function\n",
    "        super().__init__()\n",
    "        print(\"Penguin is ready\")\n",
    "    def whoisThis(self):\n",
    "        print(\"Penguin\")\n",
    "    def run(self):\n",
    "        print(\"Run faster\")\n",
    "\n",
    "peggy = Penguin()\n",
    "peggy.whoisThis()\n",
    "peggy.swim()\n",
    "peggy.run()"
   ]
  },
  {
   "cell_type": "code",
   "execution_count": 32,
   "id": "5f4f5c48",
   "metadata": {},
   "outputs": [],
   "source": [
    "class Base:\n",
    "    def __init__(self):\n",
    "        self._a=\"Bmerocks\"\n",
    "        self.__c=\"j\"\n",
    "class der(Base):\n",
    "    def __init__(self):\n",
    "        Base__init(self)\n",
    "        print(\"Calling private member of base class: \")\n",
    "        print(self.__c)"
   ]
  },
  {
   "cell_type": "code",
   "execution_count": 35,
   "id": "0573b3a4",
   "metadata": {},
   "outputs": [
    {
     "ename": "AttributeError",
     "evalue": "'Base' object has no attribute '_a'",
     "output_type": "error",
     "traceback": [
      "\u001b[1;31m---------------------------------------------------------------------------\u001b[0m",
      "\u001b[1;31mAttributeError\u001b[0m                            Traceback (most recent call last)",
      "Cell \u001b[1;32mIn[35], line 2\u001b[0m\n\u001b[0;32m      1\u001b[0m obj1 \u001b[38;5;241m=\u001b[39m Base()\n\u001b[1;32m----> 2\u001b[0m \u001b[38;5;28mprint\u001b[39m(obj1\u001b[38;5;241m.\u001b[39m_a)\n",
      "\u001b[1;31mAttributeError\u001b[0m: 'Base' object has no attribute '_a'"
     ]
    }
   ],
   "source": [
    "obj1 = Base()\n",
    "print(obj1._a)"
   ]
  },
  {
   "cell_type": "code",
   "execution_count": 34,
   "id": "cf3c9260",
   "metadata": {},
   "outputs": [
    {
     "ename": "AttributeError",
     "evalue": "'Base' object has no attribute '__c'",
     "output_type": "error",
     "traceback": [
      "\u001b[1;31m---------------------------------------------------------------------------\u001b[0m",
      "\u001b[1;31mAttributeError\u001b[0m                            Traceback (most recent call last)",
      "Cell \u001b[1;32mIn[34], line 1\u001b[0m\n\u001b[1;32m----> 1\u001b[0m \u001b[38;5;28mprint\u001b[39m(obj1\u001b[38;5;241m.\u001b[39m__c)\n",
      "\u001b[1;31mAttributeError\u001b[0m: 'Base' object has no attribute '__c'"
     ]
    }
   ],
   "source": [
    "print(obj1.__c)"
   ]
  },
  {
   "cell_type": "code",
   "execution_count": 37,
   "id": "6e0aee0d",
   "metadata": {},
   "outputs": [
    {
     "ename": "NameError",
     "evalue": "name 'Base__init' is not defined",
     "output_type": "error",
     "traceback": [
      "\u001b[1;31m---------------------------------------------------------------------------\u001b[0m",
      "\u001b[1;31mNameError\u001b[0m                                 Traceback (most recent call last)",
      "Cell \u001b[1;32mIn[37], line 1\u001b[0m\n\u001b[1;32m----> 1\u001b[0m obj2 \u001b[38;5;241m=\u001b[39m der()\n",
      "Cell \u001b[1;32mIn[32], line 7\u001b[0m, in \u001b[0;36mder.__init__\u001b[1;34m(self)\u001b[0m\n\u001b[0;32m      6\u001b[0m \u001b[38;5;28;01mdef\u001b[39;00m \u001b[38;5;21m__init__\u001b[39m(\u001b[38;5;28mself\u001b[39m):\n\u001b[1;32m----> 7\u001b[0m     Base__init(\u001b[38;5;28mself\u001b[39m)\n\u001b[0;32m      8\u001b[0m     \u001b[38;5;28mprint\u001b[39m(\u001b[38;5;124m\"\u001b[39m\u001b[38;5;124mCalling private member of base class: \u001b[39m\u001b[38;5;124m\"\u001b[39m)\n\u001b[0;32m      9\u001b[0m     \u001b[38;5;28mprint\u001b[39m(\u001b[38;5;28mself\u001b[39m\u001b[38;5;241m.\u001b[39m__c)\n",
      "\u001b[1;31mNameError\u001b[0m: name 'Base__init' is not defined"
     ]
    }
   ],
   "source": [
    "obj2 = der()"
   ]
  },
  {
   "cell_type": "code",
   "execution_count": 40,
   "id": "8e88b611",
   "metadata": {},
   "outputs": [
    {
     "name": "stdout",
     "output_type": "stream",
     "text": [
      "Selling Price: 900\n",
      "Selling Price: 900\n",
      "Selling Price: 1285\n"
     ]
    }
   ],
   "source": [
    "class com:\n",
    "    def __init__(self):\n",
    "        self.__maxprice=900\n",
    "        self.price=2000\n",
    "    def sell(self):\n",
    "        print(\"Selling Price: {}\".format(self.__maxprice))\n",
    "    def setMaxPrice(self, price):\n",
    "        self.__maxprice = price\n",
    "c=com()\n",
    "c.sell()\n",
    "c.__maxprice=1000\n",
    "c.sell()\n",
    "c.setMaxPrice(1285)\n",
    "c.sell()"
   ]
  },
  {
   "cell_type": "code",
   "execution_count": 41,
   "id": "8e2822c1",
   "metadata": {},
   "outputs": [
    {
     "name": "stdout",
     "output_type": "stream",
     "text": [
      "Parrot can fly\n",
      "Penguin can't fly\n"
     ]
    }
   ],
   "source": [
    "class Parrot:\n",
    "\n",
    "    def fly(self):\n",
    "        print(\"Parrot can fly\") \n",
    "    def swim(self):\n",
    "        print(\"Parrot can't swim\")\n",
    "class Penguin:\n",
    "\n",
    "    def fly(self):\n",
    "        print(\"Penguin can't fly\")  \n",
    "    def swim(self):\n",
    "        print(\"Penguin can swim\")\n",
    "def flying_test(bird):\n",
    "    bird.fly()\n",
    "par=Parrot()\n",
    "peg=Penguin()\n",
    "flying_test(par)\n",
    "flying_test(peg)"
   ]
  },
  {
   "cell_type": "code",
   "execution_count": 42,
   "id": "e8ed7444",
   "metadata": {},
   "outputs": [
    {
     "name": "stdout",
     "output_type": "stream",
     "text": [
      "There are many types of birds.\n",
      "Most of the birds can fly but some cannot.\n",
      "There are many types of birds.\n",
      "Sparrows can fly.\n",
      "There are many types of birds.\n",
      "Ostriches cannot fly.\n"
     ]
    }
   ],
   "source": [
    "class Bird:\n",
    "\n",
    "    def intro(self):\n",
    "        print(\"There are many types of birds.\")\n",
    "\n",
    "    def flight(self):\n",
    "        print(\"Most of the birds can fly but some cannot.\")\n",
    "        \n",
    "class sparrow(Bird):\n",
    "\n",
    "    def flight(self):\n",
    "        print(\"Sparrows can fly.\")\n",
    "        \n",
    "class ostrich(Bird):\n",
    "\n",
    "    def flight(self):\n",
    "        print(\"Ostriches cannot fly.\")\n",
    "obj_bird = Bird()\n",
    "obj_spr=sparrow()\n",
    "obj_ost = ostrich()\n",
    "obj_bird.intro()\n",
    "obj_bird.flight()\n",
    "\n",
    "obj_spr.intro()\n",
    "obj_spr.flight()\n",
    "\n",
    "obj_ost.intro()\n",
    "obj_ost.flight()"
   ]
  },
  {
   "cell_type": "code",
   "execution_count": 47,
   "id": "1becda32",
   "metadata": {},
   "outputs": [],
   "source": [
    "from abc import ABC,abstractmethod\n",
    "class Animal(ABC):\n",
    "    def sleep(self):\n",
    "        print(\"I am going to sleep in a while\")\n",
    "    def sound(self):\n",
    "          print(\"This function is for defining the sound by any animal\")\n",
    "class Snake(Animal):\n",
    "    def sound(self):\n",
    "        print(\"I can hiss\")\n",
    " \n",
    "class Dog(Animal):\n",
    "    def sound(self):\n",
    "        print(\"I can bark\")\n",
    " \n",
    "class Lion(Animal):\n",
    "    def sound(self):\n",
    "        print(\"I can roar\")\n",
    "       \n",
    "class Cat(Animal):\n",
    "    def sound(self):\n",
    "        print(\"I can meow\") "
   ]
  },
  {
   "cell_type": "code",
   "execution_count": 49,
   "id": "3c94112d",
   "metadata": {},
   "outputs": [
    {
     "name": "stdout",
     "output_type": "stream",
     "text": [
      "I am going to sleep in a while\n",
      "I can meow\n"
     ]
    }
   ],
   "source": [
    "c=Cat()\n",
    "c.sleep()\n",
    "c.sound()"
   ]
  },
  {
   "cell_type": "code",
   "execution_count": 50,
   "id": "96191efb",
   "metadata": {},
   "outputs": [
    {
     "name": "stdout",
     "output_type": "stream",
     "text": [
      "I am going to sleep in a while\n",
      "I can hiss\n"
     ]
    }
   ],
   "source": [
    "c = Snake()\n",
    "c.sleep()\n",
    "c.sound()"
   ]
  },
  {
   "cell_type": "code",
   "execution_count": 55,
   "id": "894b6290",
   "metadata": {},
   "outputs": [
    {
     "name": "stdout",
     "output_type": "stream",
     "text": [
      "I am going to sleep in a while\n",
      "This function is for defining the sound by any animal\n"
     ]
    }
   ],
   "source": [
    "class Rabbit(Animal):\n",
    "    def sound(self):\n",
    "        super().sound()\n",
    "\n",
    "c = Rabbit()\n",
    "c.sleep()\n",
    "c.sound() "
   ]
  },
  {
   "cell_type": "code",
   "execution_count": 57,
   "id": "c81b0bc9",
   "metadata": {},
   "outputs": [
    {
     "ename": "NameError",
     "evalue": "name 'aapl' is not defined",
     "output_type": "error",
     "traceback": [
      "\u001b[1;31m---------------------------------------------------------------------------\u001b[0m",
      "\u001b[1;31mNameError\u001b[0m                                 Traceback (most recent call last)",
      "Cell \u001b[1;32mIn[57], line 4\u001b[0m\n\u001b[0;32m      2\u001b[0m short_window \u001b[38;5;241m=\u001b[39m \u001b[38;5;241m40\u001b[39m\n\u001b[0;32m      3\u001b[0m long_window \u001b[38;5;241m=\u001b[39m \u001b[38;5;241m100\u001b[39m\n\u001b[1;32m----> 4\u001b[0m signals \u001b[38;5;241m=\u001b[39m pd\u001b[38;5;241m.\u001b[39mDataFrame(index\u001b[38;5;241m=\u001b[39maapl\u001b[38;5;241m.\u001b[39mindex)\n\u001b[0;32m      5\u001b[0m signals[\u001b[38;5;124m'\u001b[39m\u001b[38;5;124msignal\u001b[39m\u001b[38;5;124m'\u001b[39m] \u001b[38;5;241m=\u001b[39m \u001b[38;5;241m0.0\u001b[39m\n",
      "\u001b[1;31mNameError\u001b[0m: name 'aapl' is not defined"
     ]
    }
   ],
   "source": [
    "import pandas as pd\n",
    "short_window = 40\n",
    "long_window = 100\n",
    "signals = pd.DataFrame(index=aapl.index)\n",
    "signals['signal'] = 0.0\n"
   ]
  },
  {
   "cell_type": "code",
   "execution_count": null,
   "id": "816b3f35",
   "metadata": {},
   "outputs": [],
   "source": []
  }
 ],
 "metadata": {
  "kernelspec": {
   "display_name": "Python 3 (ipykernel)",
   "language": "python",
   "name": "python3"
  },
  "language_info": {
   "codemirror_mode": {
    "name": "ipython",
    "version": 3
   },
   "file_extension": ".py",
   "mimetype": "text/x-python",
   "name": "python",
   "nbconvert_exporter": "python",
   "pygments_lexer": "ipython3",
   "version": "3.11.5"
  }
 },
 "nbformat": 4,
 "nbformat_minor": 5
}
